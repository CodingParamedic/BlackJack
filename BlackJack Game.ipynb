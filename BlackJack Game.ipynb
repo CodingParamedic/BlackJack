{
 "cells": [
  {
   "cell_type": "code",
   "execution_count": 3,
   "metadata": {},
   "outputs": [],
   "source": [
    "import random\n",
    "\n",
    "suits = ('Hearts', 'Diamonds', 'Spades', 'Clubs')\n",
    "ranks = ('Two', 'Three', 'Four', 'Five', 'Six', 'Seven', 'Eight', 'Nine', 'Ten', 'Jack', 'Queen', 'King', 'Ace')\n",
    "values = {'Two':2, 'Three':3, 'Four':4, 'Five':5, 'Six':6, 'Seven':7, 'Eight':8, 'Nine':9, 'Ten':10, 'Jack':10,\n",
    "         'Queen':10, 'King':10, 'Ace':11}\n",
    "\n",
    "playing = True"
   ]
  },
  {
   "cell_type": "code",
   "execution_count": 4,
   "metadata": {},
   "outputs": [],
   "source": [
    "class Card():\n",
    "    \n",
    "    def __init__(self,suit,rank):\n",
    "        self.suit = suit\n",
    "        self.rank = rank\n",
    "        \n",
    "    def __str__(self):\n",
    "        return self.rank + ' of ' + self.suit"
   ]
  },
  {
   "cell_type": "code",
   "execution_count": 5,
   "metadata": {},
   "outputs": [],
   "source": [
    "class Deck():\n",
    "    \n",
    "    def __init__(self):\n",
    "        \n",
    "        self.deck = []\n",
    "        \n",
    "        for suit in suits:\n",
    "            for rank in ranks:\n",
    "                self.deck.append(Card(suit,rank))\n",
    "                \n",
    "    def __str__(self):\n",
    "        \n",
    "        deck_comp = ''\n",
    "        for card in self.deck:\n",
    "            deck_comp += '\\n' + card.__str__()\n",
    "            \n",
    "        return 'The deck has: ' + deck_comp\n",
    "    \n",
    "    def shuffle(self):\n",
    "        random.shuffle(self.deck)\n",
    "        \n",
    "    def deal(self):\n",
    "        single_card = self.deck.pop()\n",
    "        return single_card"
   ]
  },
  {
   "cell_type": "code",
   "execution_count": 6,
   "metadata": {},
   "outputs": [
    {
     "name": "stdout",
     "output_type": "stream",
     "text": [
      "The deck has: \n",
      "Eight of Hearts\n",
      "Two of Diamonds\n",
      "Ten of Clubs\n",
      "Five of Hearts\n",
      "Eight of Spades\n",
      "Jack of Clubs\n",
      "King of Diamonds\n",
      "Four of Hearts\n",
      "Three of Hearts\n",
      "King of Hearts\n",
      "Six of Hearts\n",
      "Six of Clubs\n",
      "Ace of Spades\n",
      "Queen of Clubs\n",
      "Queen of Diamonds\n",
      "Eight of Clubs\n",
      "Ten of Spades\n",
      "Jack of Hearts\n",
      "Five of Spades\n",
      "Four of Spades\n",
      "Three of Diamonds\n",
      "Seven of Hearts\n",
      "Ace of Hearts\n",
      "Eight of Diamonds\n",
      "Jack of Spades\n",
      "Seven of Clubs\n",
      "Ace of Clubs\n",
      "Nine of Hearts\n",
      "Nine of Diamonds\n",
      "Five of Clubs\n",
      "Jack of Diamonds\n",
      "Five of Diamonds\n",
      "Two of Clubs\n",
      "Three of Clubs\n",
      "Nine of Clubs\n",
      "Two of Spades\n",
      "Four of Diamonds\n",
      "Four of Clubs\n",
      "Ten of Diamonds\n",
      "King of Spades\n",
      "Six of Diamonds\n",
      "Nine of Spades\n",
      "Seven of Spades\n",
      "Three of Spades\n",
      "Six of Spades\n",
      "King of Clubs\n",
      "Queen of Spades\n",
      "Ten of Hearts\n",
      "Two of Hearts\n",
      "Seven of Diamonds\n",
      "Queen of Hearts\n",
      "Ace of Diamonds\n"
     ]
    }
   ],
   "source": [
    "test_deck = Deck()\n",
    "test_deck.shuffle()\n",
    "print(test_deck)"
   ]
  },
  {
   "cell_type": "code",
   "execution_count": 7,
   "metadata": {},
   "outputs": [],
   "source": [
    "class Hand():\n",
    "    \n",
    "    def __init__(self):\n",
    "        self.cards = []\n",
    "        self.value = 0\n",
    "        self.aces = 0\n",
    "        \n",
    "    def add_card(self,card):\n",
    "        self.cards.append(card)\n",
    "        self.value += values[card.rank]\n",
    "    \n",
    "    def adjust_for_ace(self):\n",
    "        while self.value > 21 and self.aces:\n",
    "            self.value -= 10\n",
    "            self.aces -= 1"
   ]
  },
  {
   "cell_type": "code",
   "execution_count": 8,
   "metadata": {},
   "outputs": [
    {
     "data": {
      "text/plain": [
       "15"
      ]
     },
     "execution_count": 8,
     "metadata": {},
     "output_type": "execute_result"
    }
   ],
   "source": [
    "test_deck = Deck()\n",
    "test_deck.shuffle()\n",
    "test_player = Hand()\n",
    "test_player.add_card(test_deck.deal())\n",
    "test_player.add_card(test_deck.deal())\n",
    "test_player.value"
   ]
  },
  {
   "cell_type": "code",
   "execution_count": 9,
   "metadata": {},
   "outputs": [
    {
     "name": "stdout",
     "output_type": "stream",
     "text": [
      "Five of Diamonds\n",
      "King of Clubs\n"
     ]
    }
   ],
   "source": [
    "for card in test_player.cards:\n",
    "    print(card)"
   ]
  },
  {
   "cell_type": "code",
   "execution_count": 10,
   "metadata": {},
   "outputs": [],
   "source": [
    "# chips class\n",
    "class Chips:\n",
    "    \n",
    "    def __init__(self):\n",
    "        self.total = 100\n",
    "        self.bet = 0\n",
    "        \n",
    "    def win_bet(self):\n",
    "        self.total += self.bet\n",
    "        \n",
    "    def lose_bet(self):\n",
    "        self.total -= self.bet"
   ]
  },
  {
   "cell_type": "code",
   "execution_count": 11,
   "metadata": {},
   "outputs": [],
   "source": [
    "def take_bet(chips):\n",
    "    \n",
    "    while True:\n",
    "        try:\n",
    "            chips.bet = int(input(\"Place your bet. \"))\n",
    "        except ValueError:\n",
    "            print(\"Don't be trying to mess with me, now.\")\n",
    "        else:\n",
    "            if chips.bet > chips.total:\n",
    "                print(\"You only have \",chips.total)\n",
    "            else:\n",
    "                break"
   ]
  },
  {
   "cell_type": "code",
   "execution_count": 12,
   "metadata": {},
   "outputs": [],
   "source": [
    "def hit(deck,hand):\n",
    "    \n",
    "    hand.add_card(deck.deal())\n",
    "    hand.adjust_for_ace()"
   ]
  },
  {
   "cell_type": "code",
   "execution_count": 13,
   "metadata": {},
   "outputs": [],
   "source": [
    "#play hit or stand\n",
    "\n",
    "def hit_or_stand(deck,hand):\n",
    "    \n",
    "    global playing\n",
    "    \n",
    "    while True:\n",
    "        \n",
    "        x = input(\"Hit or Stand? Press H or S: \")\n",
    "        \n",
    "        if x[0].lower() == 'h':\n",
    "            hit(deck,hand)\n",
    "        \n",
    "        elif x[0].lower() == 's':\n",
    "            print(\"Player stands. Dealer Turn.\")\n",
    "            player = False\n",
    "            \n",
    "        else:\n",
    "            print(\"Try again.\")\n",
    "            continue\n",
    "        break"
   ]
  },
  {
   "cell_type": "code",
   "execution_count": 14,
   "metadata": {},
   "outputs": [],
   "source": [
    "#display cards\n",
    "\n",
    "def show_some(player,dealer):\n",
    "    #show one of dealers hand\n",
    "    #show all of players hand\n",
    "         \n",
    "    print(\"\\n Dealer's hand: \")\n",
    "    print(\"First card hidden.\")\n",
    "    print(dealer.cards[1])\n",
    "    \n",
    "    \n",
    "    print(\"\\n Player's hand: \")\n",
    "    for card in player.cards:\n",
    "        print(card)\n",
    "    \n",
    "def show_all(player,dealer):\n",
    "    #show all dealer cards\n",
    "    #show all player cards\n",
    "    \n",
    "    for card in dealer.cards:\n",
    "        print(card)\n",
    "    print(f\"Dealer's hand is: {dealer.value}.\")\n",
    "    \n",
    "    \n",
    "    for card in player.cards:\n",
    "        print(card)\n",
    "    print(f\"Player's hand is: {player.value}.\")"
   ]
  },
  {
   "cell_type": "code",
   "execution_count": 15,
   "metadata": {},
   "outputs": [],
   "source": [
    "#win conditions\n",
    "\n",
    "def player_busts(player,dealer,chips):\n",
    "    print(\"Player Busts.\")\n",
    "    chips.lose_bet()\n",
    "\n",
    "def player_wins(player,dealer,chips):\n",
    "    print(\"Player Wins.\")\n",
    "    chips.win_bet()\n",
    "\n",
    "def dealer_busts(player,dealer,chips):\n",
    "    print(\"Dealer Busts.\")\n",
    "    chips.win_bet()\n",
    "    \n",
    "def dealer_wins(player,dealer,chips):\n",
    "    print(\"Dealer Wins.\")\n",
    "    chips.lose_bet()\n",
    "\n",
    "def push(player,dealer):\n",
    "    print(\"Player and Dealer tie. Push!\")\n",
    "\n"
   ]
  },
  {
   "cell_type": "code",
   "execution_count": null,
   "metadata": {},
   "outputs": [
    {
     "name": "stdout",
     "output_type": "stream",
     "text": [
      "Welcome to Blackjack\n",
      "Place your bet. 20\n",
      "\n",
      " Dealer's hand: \n",
      "First card hidden.\n",
      "Seven of Spades\n",
      "\n",
      " Player's hand: \n",
      "Ace of Hearts\n",
      "Eight of Diamonds\n",
      "Hit or Stand? Press H or S: s\n",
      "Player stands. Dealer Turn.\n",
      "\n",
      " Dealer's hand: \n",
      "First card hidden.\n",
      "Seven of Spades\n",
      "\n",
      " Player's hand: \n",
      "Ace of Hearts\n",
      "Eight of Diamonds\n"
     ]
    }
   ],
   "source": [
    "#game logic\n",
    "\n",
    "while True:\n",
    "\n",
    "    print(\"Welcome to Blackjack\")\n",
    "    \n",
    "    deck = Deck()\n",
    "    deck.shuffle()\n",
    "    \n",
    "    #dealer and player hand setup\n",
    "    \n",
    "    player_hand = Hand()\n",
    "    player_hand.add_card(deck.deal())\n",
    "    player_hand.add_card(deck.deal())\n",
    "    \n",
    "    dealer_hand = Hand()\n",
    "    dealer_hand.add_card(deck.deal())\n",
    "    dealer_hand.add_card(deck.deal())\n",
    "    \n",
    "    #chips\n",
    "    \n",
    "    player_chips = Chips()\n",
    "    \n",
    "    #bet\n",
    "    \n",
    "    take_bet(player_chips)\n",
    "    \n",
    "    #cards\n",
    "    show_some(player_hand,dealer_hand)\n",
    "    \n",
    "    while playing:\n",
    "        \n",
    "        hit_or_stand(deck,player_hand)\n",
    "        \n",
    "        show_some(player_hand,dealer_hand)\n",
    "        \n",
    "        if player_hand.value > 21:\n",
    "            player_busts(player_hand,dealer_hand,player_chips)\n",
    "            \n",
    "            break\n",
    "            \n",
    "    if player_hand.value <= 21:\n",
    "        \n",
    "        while dealer_hand.value < 17:\n",
    "            hit(deck,dealer_hand)\n",
    "            \n",
    "        show_all(player_hand,dealer_hand)\n",
    "        \n",
    "        if dealer_hand.value > 21:\n",
    "            dealer_busts(player_hand,dealer_hand,player_chips)\n",
    "            \n",
    "        elif dealer_hand.value > player_hand.value:\n",
    "            dealer_wins(player_hand,dealer_hand,player_chips)\n",
    "        \n",
    "        elif dealer_hand.value < player_hand.value:\n",
    "            player_wins(player_hand,dealer_hand,player_chips)\n",
    "            \n",
    "        else:\n",
    "            push(player_hand,dealer_hand)\n",
    "            \n",
    "            \n",
    "    print(\"\\n Player chips are at: {}\".format(player_chips.total))\n",
    "    \n",
    "    new_game = input(\"Play another hand? y/n\")\n",
    "    \n",
    "    if new_game[0].lower() == 'y':\n",
    "        playing = True\n",
    "        continue\n",
    "        \n",
    "    else:\n",
    "        print(\"Thanks for playing!\")\n",
    "        break"
   ]
  },
  {
   "cell_type": "code",
   "execution_count": null,
   "metadata": {},
   "outputs": [],
   "source": []
  }
 ],
 "metadata": {
  "kernelspec": {
   "display_name": "Python 3",
   "language": "python",
   "name": "python3"
  },
  "language_info": {
   "codemirror_mode": {
    "name": "ipython",
    "version": 3
   },
   "file_extension": ".py",
   "mimetype": "text/x-python",
   "name": "python",
   "nbconvert_exporter": "python",
   "pygments_lexer": "ipython3",
   "version": "3.8.5"
  }
 },
 "nbformat": 4,
 "nbformat_minor": 4
}
